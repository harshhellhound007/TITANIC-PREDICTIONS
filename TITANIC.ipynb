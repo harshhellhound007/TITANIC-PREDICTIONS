{
 "cells": [
  {
   "cell_type": "markdown",
   "metadata": {},
   "source": [
    "# Problem Statement\n",
    "\n",
    "The sinking of the RMS Titanic is one of the most infamous shipwrecks in history. On April 15, 1912, during her maiden voyage, the Titanic sank after colliding with an iceberg, killing numerous passengers and crew. This sensational tragedy shocked the international community and led to better safety regulations for ships.\n",
    "\n",
    "One of the reasons that the shipwreck led to such loss of life was that there were not enough lifeboats for the passengers and crew. Although there was some element of luck involved in surviving the sinking, some groups of people were more likely to survive than others, such as women, children, and the upper-class."
   ]
  },
  {
   "cell_type": "markdown",
   "metadata": {},
   "source": [
    "# Task\n",
    "\n",
    "1. To complete the analysis of what sorts of people were likely to survive. \n",
    "2. To predict which passengers survived the tragedy."
   ]
  },
  {
   "cell_type": "code",
   "execution_count": 1,
   "metadata": {},
   "outputs": [],
   "source": [
    "import warnings\n",
    "warnings.filterwarnings('ignore')\n",
    "\n",
    "import numpy as np\n",
    "import pandas as pd\n",
    "\n",
    "import matplotlib as mpl\n",
    "import matplotlib.pyplot as plt\n",
    "import matplotlib.pylab as pylab\n",
    "import seaborn as sns\n",
    "from sklearn.linear_model import LogisticRegression\n",
    "from sklearn.model_selection import train_test_split, cross_val_score\n",
    "\n",
    "%matplotlib inline\n",
    "mpl.style.use('ggplot')\n",
    "sns.set_style('white')\n",
    "pylab.rcParams['figure.figsize']=8,6"
   ]
  },
  {
   "cell_type": "code",
   "execution_count": 2,
   "metadata": {},
   "outputs": [],
   "source": [
    "titanic=pd.read_csv('train.csv')"
   ]
  },
  {
   "cell_type": "code",
   "execution_count": 3,
   "metadata": {},
   "outputs": [
    {
     "data": {
      "text/plain": [
       "(891, 12)"
      ]
     },
     "execution_count": 3,
     "metadata": {},
     "output_type": "execute_result"
    }
   ],
   "source": [
    "titanic.shape"
   ]
  },
  {
   "cell_type": "code",
   "execution_count": 4,
   "metadata": {},
   "outputs": [
    {
     "data": {
      "text/html": [
       "<div>\n",
       "<style scoped>\n",
       "    .dataframe tbody tr th:only-of-type {\n",
       "        vertical-align: middle;\n",
       "    }\n",
       "\n",
       "    .dataframe tbody tr th {\n",
       "        vertical-align: top;\n",
       "    }\n",
       "\n",
       "    .dataframe thead th {\n",
       "        text-align: right;\n",
       "    }\n",
       "</style>\n",
       "<table border=\"1\" class=\"dataframe\">\n",
       "  <thead>\n",
       "    <tr style=\"text-align: right;\">\n",
       "      <th></th>\n",
       "      <th>PassengerId</th>\n",
       "      <th>Survived</th>\n",
       "      <th>Pclass</th>\n",
       "      <th>Age</th>\n",
       "      <th>SibSp</th>\n",
       "      <th>Parch</th>\n",
       "      <th>Fare</th>\n",
       "    </tr>\n",
       "  </thead>\n",
       "  <tbody>\n",
       "    <tr>\n",
       "      <th>count</th>\n",
       "      <td>891.000000</td>\n",
       "      <td>891.000000</td>\n",
       "      <td>891.000000</td>\n",
       "      <td>714.000000</td>\n",
       "      <td>891.000000</td>\n",
       "      <td>891.000000</td>\n",
       "      <td>891.000000</td>\n",
       "    </tr>\n",
       "    <tr>\n",
       "      <th>mean</th>\n",
       "      <td>446.000000</td>\n",
       "      <td>0.383838</td>\n",
       "      <td>2.308642</td>\n",
       "      <td>29.699118</td>\n",
       "      <td>0.523008</td>\n",
       "      <td>0.381594</td>\n",
       "      <td>32.204208</td>\n",
       "    </tr>\n",
       "    <tr>\n",
       "      <th>std</th>\n",
       "      <td>257.353842</td>\n",
       "      <td>0.486592</td>\n",
       "      <td>0.836071</td>\n",
       "      <td>14.526497</td>\n",
       "      <td>1.102743</td>\n",
       "      <td>0.806057</td>\n",
       "      <td>49.693429</td>\n",
       "    </tr>\n",
       "    <tr>\n",
       "      <th>min</th>\n",
       "      <td>1.000000</td>\n",
       "      <td>0.000000</td>\n",
       "      <td>1.000000</td>\n",
       "      <td>0.420000</td>\n",
       "      <td>0.000000</td>\n",
       "      <td>0.000000</td>\n",
       "      <td>0.000000</td>\n",
       "    </tr>\n",
       "    <tr>\n",
       "      <th>25%</th>\n",
       "      <td>223.500000</td>\n",
       "      <td>0.000000</td>\n",
       "      <td>2.000000</td>\n",
       "      <td>20.125000</td>\n",
       "      <td>0.000000</td>\n",
       "      <td>0.000000</td>\n",
       "      <td>7.910400</td>\n",
       "    </tr>\n",
       "    <tr>\n",
       "      <th>50%</th>\n",
       "      <td>446.000000</td>\n",
       "      <td>0.000000</td>\n",
       "      <td>3.000000</td>\n",
       "      <td>28.000000</td>\n",
       "      <td>0.000000</td>\n",
       "      <td>0.000000</td>\n",
       "      <td>14.454200</td>\n",
       "    </tr>\n",
       "    <tr>\n",
       "      <th>75%</th>\n",
       "      <td>668.500000</td>\n",
       "      <td>1.000000</td>\n",
       "      <td>3.000000</td>\n",
       "      <td>38.000000</td>\n",
       "      <td>1.000000</td>\n",
       "      <td>0.000000</td>\n",
       "      <td>31.000000</td>\n",
       "    </tr>\n",
       "    <tr>\n",
       "      <th>max</th>\n",
       "      <td>891.000000</td>\n",
       "      <td>1.000000</td>\n",
       "      <td>3.000000</td>\n",
       "      <td>80.000000</td>\n",
       "      <td>8.000000</td>\n",
       "      <td>6.000000</td>\n",
       "      <td>512.329200</td>\n",
       "    </tr>\n",
       "  </tbody>\n",
       "</table>\n",
       "</div>"
      ],
      "text/plain": [
       "       PassengerId    Survived      Pclass         Age       SibSp  \\\n",
       "count   891.000000  891.000000  891.000000  714.000000  891.000000   \n",
       "mean    446.000000    0.383838    2.308642   29.699118    0.523008   \n",
       "std     257.353842    0.486592    0.836071   14.526497    1.102743   \n",
       "min       1.000000    0.000000    1.000000    0.420000    0.000000   \n",
       "25%     223.500000    0.000000    2.000000   20.125000    0.000000   \n",
       "50%     446.000000    0.000000    3.000000   28.000000    0.000000   \n",
       "75%     668.500000    1.000000    3.000000   38.000000    1.000000   \n",
       "max     891.000000    1.000000    3.000000   80.000000    8.000000   \n",
       "\n",
       "            Parch        Fare  \n",
       "count  891.000000  891.000000  \n",
       "mean     0.381594   32.204208  \n",
       "std      0.806057   49.693429  \n",
       "min      0.000000    0.000000  \n",
       "25%      0.000000    7.910400  \n",
       "50%      0.000000   14.454200  \n",
       "75%      0.000000   31.000000  \n",
       "max      6.000000  512.329200  "
      ]
     },
     "execution_count": 4,
     "metadata": {},
     "output_type": "execute_result"
    }
   ],
   "source": [
    "titanic.describe()"
   ]
  },
  {
   "cell_type": "code",
   "execution_count": 21,
   "metadata": {},
   "outputs": [
    {
     "data": {
      "text/plain": [
       "0    549\n",
       "1    342\n",
       "Name: Survived, dtype: int64"
      ]
     },
     "execution_count": 21,
     "metadata": {},
     "output_type": "execute_result"
    }
   ],
   "source": [
    "titanic['Survived'].value_counts()"
   ]
  },
  {
   "cell_type": "code",
   "execution_count": 5,
   "metadata": {},
   "outputs": [
    {
     "data": {
      "text/html": [
       "<div>\n",
       "<style scoped>\n",
       "    .dataframe tbody tr th:only-of-type {\n",
       "        vertical-align: middle;\n",
       "    }\n",
       "\n",
       "    .dataframe tbody tr th {\n",
       "        vertical-align: top;\n",
       "    }\n",
       "\n",
       "    .dataframe thead th {\n",
       "        text-align: right;\n",
       "    }\n",
       "</style>\n",
       "<table border=\"1\" class=\"dataframe\">\n",
       "  <thead>\n",
       "    <tr style=\"text-align: right;\">\n",
       "      <th></th>\n",
       "      <th>Name</th>\n",
       "      <th>Sex</th>\n",
       "      <th>Ticket</th>\n",
       "      <th>Cabin</th>\n",
       "      <th>Embarked</th>\n",
       "    </tr>\n",
       "  </thead>\n",
       "  <tbody>\n",
       "    <tr>\n",
       "      <th>count</th>\n",
       "      <td>891</td>\n",
       "      <td>891</td>\n",
       "      <td>891</td>\n",
       "      <td>204</td>\n",
       "      <td>889</td>\n",
       "    </tr>\n",
       "    <tr>\n",
       "      <th>unique</th>\n",
       "      <td>891</td>\n",
       "      <td>2</td>\n",
       "      <td>681</td>\n",
       "      <td>147</td>\n",
       "      <td>3</td>\n",
       "    </tr>\n",
       "    <tr>\n",
       "      <th>top</th>\n",
       "      <td>Petroff, Mr. Nedelio</td>\n",
       "      <td>male</td>\n",
       "      <td>347082</td>\n",
       "      <td>C23 C25 C27</td>\n",
       "      <td>S</td>\n",
       "    </tr>\n",
       "    <tr>\n",
       "      <th>freq</th>\n",
       "      <td>1</td>\n",
       "      <td>577</td>\n",
       "      <td>7</td>\n",
       "      <td>4</td>\n",
       "      <td>644</td>\n",
       "    </tr>\n",
       "  </tbody>\n",
       "</table>\n",
       "</div>"
      ],
      "text/plain": [
       "                        Name   Sex  Ticket        Cabin Embarked\n",
       "count                    891   891     891          204      889\n",
       "unique                   891     2     681          147        3\n",
       "top     Petroff, Mr. Nedelio  male  347082  C23 C25 C27        S\n",
       "freq                       1   577       7            4      644"
      ]
     },
     "execution_count": 5,
     "metadata": {},
     "output_type": "execute_result"
    }
   ],
   "source": [
    "titanic.describe(include=np.object)"
   ]
  },
  {
   "cell_type": "code",
   "execution_count": 6,
   "metadata": {},
   "outputs": [],
   "source": [
    "def plot_histograms(df,variables,n_rows,n_cols):\n",
    "    fig=plt.figure(figsize=(16,12))\n",
    "    for i, var_name in enumerate(variables):\n",
    "        ax=fig.add_subplot(n_rows,n_cols,i+1)\n",
    "        df[var_name].hist(bins=10,ax=ax)\n",
    "        ax.set_title('Skew: '+ str(round(float(df[var_name].skew()))))\n",
    "        ax.set_xticklabels([],visible=False)\n",
    "        ax.set_yticklabels([],visible=False)\n",
    "    fig.tight_layout()\n",
    "    plt.show()"
   ]
  },
  {
   "cell_type": "code",
   "execution_count": 7,
   "metadata": {},
   "outputs": [],
   "source": [
    "def plot_distribution(df,var,target,**kwargs):\n",
    "    row=kwargs.get('row',None)\n",
    "    col=kwargs.get('col',None)\n",
    "    facet=sns.FacetGrid(df, hue=target, aspect=4, row=row, col=col)\n",
    "    facet.map(sns.kdeplot, var, shade=True)\n",
    "    facet.set(xlim=(0, df[var].max()))\n",
    "    facet.add_legend()"
   ]
  },
  {
   "cell_type": "code",
   "execution_count": 8,
   "metadata": {},
   "outputs": [],
   "source": [
    "def plot_categories(df,cat,target,**kwargs):\n",
    "    row=kwargs.get('row',None)\n",
    "    col=kwargs.get('col',None)\n",
    "    facet=sns.FacetGrid(df, row=row, col=col)\n",
    "    facet.map(sns.barplot, cat, target)\n",
    "    facet.add_legend()"
   ]
  },
  {
   "cell_type": "code",
   "execution_count": 9,
   "metadata": {},
   "outputs": [],
   "source": [
    "def plot_correlation_map(df):\n",
    "    corr=df.corr()\n",
    "    _ , ax=plt.subplots(figsize=(12,10))\n",
    "    cmap=sns.diverging_palette(220,10,as_cmap=True)\n",
    "    _ - sns.heatmap(corr, cmap=cmap, square=True, cbar_kws={'shrink':.9}, ax=ax, annot=True, annot_kws={'fontsize':12})\n"
   ]
  },
  {
   "cell_type": "code",
   "execution_count": 10,
   "metadata": {},
   "outputs": [],
   "source": [
    "def describe_more(df):\n",
    "    var=[]; l-[], t-[]\n",
    "    for x in df:\n",
    "        var.append(x)\n",
    "        l.append(len(pd.value_counts(df[x])))\n",
    "        t.append(df[x].dtypes)\n",
    "    levels=pd.DataFrame({'Variable':var, 'Levels':l, 'Datatype':t})\n",
    "    levels.sort_values(by='levels', inplace=True)\n",
    "    return levels"
   ]
  },
  {
   "cell_type": "code",
   "execution_count": 11,
   "metadata": {},
   "outputs": [
    {
     "ename": "TypeError",
     "evalue": "unsupported operand type(s) for -: 'Figure' and 'AxesSubplot'",
     "output_type": "error",
     "traceback": [
      "\u001b[1;31m---------------------------------------------------------------------------\u001b[0m",
      "\u001b[1;31mTypeError\u001b[0m                                 Traceback (most recent call last)",
      "\u001b[1;32m<ipython-input-11-325bf542411f>\u001b[0m in \u001b[0;36m<module>\u001b[1;34m\u001b[0m\n\u001b[1;32m----> 1\u001b[1;33m \u001b[0mplot_correlation_map\u001b[0m\u001b[1;33m(\u001b[0m\u001b[0mtitanic\u001b[0m\u001b[1;33m)\u001b[0m\u001b[1;33m\u001b[0m\u001b[1;33m\u001b[0m\u001b[0m\n\u001b[0m",
      "\u001b[1;32m<ipython-input-9-60ca2a76845a>\u001b[0m in \u001b[0;36mplot_correlation_map\u001b[1;34m(df)\u001b[0m\n\u001b[0;32m      3\u001b[0m     \u001b[0m_\u001b[0m \u001b[1;33m,\u001b[0m \u001b[0max\u001b[0m\u001b[1;33m=\u001b[0m\u001b[0mplt\u001b[0m\u001b[1;33m.\u001b[0m\u001b[0msubplots\u001b[0m\u001b[1;33m(\u001b[0m\u001b[0mfigsize\u001b[0m\u001b[1;33m=\u001b[0m\u001b[1;33m(\u001b[0m\u001b[1;36m12\u001b[0m\u001b[1;33m,\u001b[0m\u001b[1;36m10\u001b[0m\u001b[1;33m)\u001b[0m\u001b[1;33m)\u001b[0m\u001b[1;33m\u001b[0m\u001b[1;33m\u001b[0m\u001b[0m\n\u001b[0;32m      4\u001b[0m     \u001b[0mcmap\u001b[0m\u001b[1;33m=\u001b[0m\u001b[0msns\u001b[0m\u001b[1;33m.\u001b[0m\u001b[0mdiverging_palette\u001b[0m\u001b[1;33m(\u001b[0m\u001b[1;36m220\u001b[0m\u001b[1;33m,\u001b[0m\u001b[1;36m10\u001b[0m\u001b[1;33m,\u001b[0m\u001b[0mas_cmap\u001b[0m\u001b[1;33m=\u001b[0m\u001b[1;32mTrue\u001b[0m\u001b[1;33m)\u001b[0m\u001b[1;33m\u001b[0m\u001b[1;33m\u001b[0m\u001b[0m\n\u001b[1;32m----> 5\u001b[1;33m     \u001b[0m_\u001b[0m \u001b[1;33m-\u001b[0m \u001b[0msns\u001b[0m\u001b[1;33m.\u001b[0m\u001b[0mheatmap\u001b[0m\u001b[1;33m(\u001b[0m\u001b[0mcorr\u001b[0m\u001b[1;33m,\u001b[0m \u001b[0mcmap\u001b[0m\u001b[1;33m=\u001b[0m\u001b[0mcmap\u001b[0m\u001b[1;33m,\u001b[0m \u001b[0msquare\u001b[0m\u001b[1;33m=\u001b[0m\u001b[1;32mTrue\u001b[0m\u001b[1;33m,\u001b[0m \u001b[0mcbar_kws\u001b[0m\u001b[1;33m=\u001b[0m\u001b[1;33m{\u001b[0m\u001b[1;34m'shrink'\u001b[0m\u001b[1;33m:\u001b[0m\u001b[1;36m.9\u001b[0m\u001b[1;33m}\u001b[0m\u001b[1;33m,\u001b[0m \u001b[0max\u001b[0m\u001b[1;33m=\u001b[0m\u001b[0max\u001b[0m\u001b[1;33m,\u001b[0m \u001b[0mannot\u001b[0m\u001b[1;33m=\u001b[0m\u001b[1;32mTrue\u001b[0m\u001b[1;33m,\u001b[0m \u001b[0mannot_kws\u001b[0m\u001b[1;33m=\u001b[0m\u001b[1;33m{\u001b[0m\u001b[1;34m'fontsize'\u001b[0m\u001b[1;33m:\u001b[0m\u001b[1;36m12\u001b[0m\u001b[1;33m}\u001b[0m\u001b[1;33m)\u001b[0m\u001b[1;33m\u001b[0m\u001b[1;33m\u001b[0m\u001b[0m\n\u001b[0m",
      "\u001b[1;31mTypeError\u001b[0m: unsupported operand type(s) for -: 'Figure' and 'AxesSubplot'"
     ]
    },
    {
     "data": {
      "image/png": "[encoded data removed]",
      "text/plain": [
       "<Figure size 864x720 with 2 Axes>"
      ]
     },
     "metadata": {
      "needs_background": "light"
     },
     "output_type": "display_data"
    }
   ],
   "source": [
    "plot_correlation_map(titanic)"
   ]
  },
  {
   "cell_type": "markdown",
   "metadata": {},
   "source": [
    "1. P class and Fare have negative correlation.\n",
    "2. P class and Age have negative correlation.\n",
    "3. Age and Survived have a strong negative correlation.\n",
    "4. Age and Fare have a strong positive correlation."
   ]
  },
  {
   "cell_type": "code",
   "execution_count": 12,
   "metadata": {
    "scrolled": true
   },
   "outputs": [
    {
     "data": {
      "image/png": "[encoded data removed]",
      "text/plain": [
       "<Figure size 918.75x432 with 2 Axes>"
      ]
     },
     "metadata": {
      "needs_background": "light"
     },
     "output_type": "display_data"
    }
   ],
   "source": [
    "plot_distribution(titanic, var='Age', target='Survived', row='Sex')"
   ]
  },
  {
   "cell_type": "markdown",
   "metadata": {},
   "source": [
    "1. Young people seemed to have survived more than old people.\n",
    "2. Young females kids survived more as compared to young male kids."
   ]
  },
  {
   "cell_type": "code",
   "execution_count": 20,
   "metadata": {},
   "outputs": [
    {
     "name": "stderr",
     "output_type": "stream",
     "text": [
      "C:\\Users\\harsh\\Anaconda3\\lib\\site-packages\\seaborn\\axisgrid.py:715: UserWarning: Using the barplot function without specifying `order` is likely to produce an incorrect plot.\n",
      "  warnings.warn(warning)\n"
     ]
    },
    {
     "data": {
      "image/png": "[encoded data removed]",
      "text/plain": [
       "<Figure size 224x216 with 1 Axes>"
      ]
     },
     "metadata": {
      "needs_background": "light"
     },
     "output_type": "display_data"
    }
   ],
   "source": [
    "plot_categories(titanic, cat=\"Embarked\", target='Survived')"
   ]
  },
  {
   "cell_type": "markdown",
   "metadata": {},
   "source": [
    "S = Southampton,\n",
    "C = Cherbourg, \n",
    "Q = Queenstown\n",
    "\n",
    "1. Passengers who boarded from Cherboug survived the most.\n",
    "2. Followed by who boarded from Queenstown then who boarded from Southampton.\n"
   ]
  },
  {
   "cell_type": "code",
   "execution_count": 17,
   "metadata": {},
   "outputs": [
    {
     "data": {
      "image/png": "[encoded data removed]",
      "text/plain": [
       "<Figure size 432x288 with 1 Axes>"
      ]
     },
     "metadata": {
      "needs_background": "light"
     },
     "output_type": "display_data"
    }
   ],
   "source": [
    "sns.countplot('Pclass',hue='Survived',data=titanic)\n",
    "plt.title('Pclass: Survived vs Dead')\n",
    "plt.show()"
   ]
  },
  {
   "cell_type": "markdown",
   "metadata": {},
   "source": [
    "Passengers from Class 1 seemed to have been given higher preference at the time of rescuing because if u look at their survival rate it is way higher than other classes.\n",
    "\n",
    "1. Class 1: Almsot 65-70% survived. (survival rate: Best)\n",
    "2. Class 2: Survival to death ratio is 51% : 49% (approx)\n",
    "3. Class 3: Almost 75% people of this class did not survive. (survival rate: Worst)"
   ]
  },
  {
   "cell_type": "code",
   "execution_count": 14,
   "metadata": {},
   "outputs": [
    {
     "data": {
      "text/html": [
       "<style  type=\"text/css\" >\n",
       "    #T_a22810c2_0df5_11ea_b414_dcf50505b36erow0_col0 {\n",
       "            background-color:  #ffff66;\n",
       "            color:  #000000;\n",
       "        }    #T_a22810c2_0df5_11ea_b414_dcf50505b36erow0_col1 {\n",
       "            background-color:  #ffff66;\n",
       "            color:  #000000;\n",
       "        }    #T_a22810c2_0df5_11ea_b414_dcf50505b36erow0_col2 {\n",
       "            background-color:  #f1f866;\n",
       "            color:  #000000;\n",
       "        }    #T_a22810c2_0df5_11ea_b414_dcf50505b36erow0_col3 {\n",
       "            background-color:  #ffff66;\n",
       "            color:  #000000;\n",
       "        }    #T_a22810c2_0df5_11ea_b414_dcf50505b36erow1_col0 {\n",
       "            background-color:  #96cb66;\n",
       "            color:  #000000;\n",
       "        }    #T_a22810c2_0df5_11ea_b414_dcf50505b36erow1_col1 {\n",
       "            background-color:  #a3d166;\n",
       "            color:  #000000;\n",
       "        }    #T_a22810c2_0df5_11ea_b414_dcf50505b36erow1_col2 {\n",
       "            background-color:  #f1f866;\n",
       "            color:  #000000;\n",
       "        }    #T_a22810c2_0df5_11ea_b414_dcf50505b36erow1_col3 {\n",
       "            background-color:  #cfe766;\n",
       "            color:  #000000;\n",
       "        }    #T_a22810c2_0df5_11ea_b414_dcf50505b36erow2_col0 {\n",
       "            background-color:  #a7d366;\n",
       "            color:  #000000;\n",
       "        }    #T_a22810c2_0df5_11ea_b414_dcf50505b36erow2_col1 {\n",
       "            background-color:  #85c266;\n",
       "            color:  #000000;\n",
       "        }    #T_a22810c2_0df5_11ea_b414_dcf50505b36erow2_col2 {\n",
       "            background-color:  #6eb666;\n",
       "            color:  #000000;\n",
       "        }    #T_a22810c2_0df5_11ea_b414_dcf50505b36erow2_col3 {\n",
       "            background-color:  #85c266;\n",
       "            color:  #000000;\n",
       "        }    #T_a22810c2_0df5_11ea_b414_dcf50505b36erow3_col0 {\n",
       "            background-color:  #cde666;\n",
       "            color:  #000000;\n",
       "        }    #T_a22810c2_0df5_11ea_b414_dcf50505b36erow3_col1 {\n",
       "            background-color:  #f0f866;\n",
       "            color:  #000000;\n",
       "        }    #T_a22810c2_0df5_11ea_b414_dcf50505b36erow3_col2 {\n",
       "            background-color:  #ffff66;\n",
       "            color:  #000000;\n",
       "        }    #T_a22810c2_0df5_11ea_b414_dcf50505b36erow3_col3 {\n",
       "            background-color:  #f7fb66;\n",
       "            color:  #000000;\n",
       "        }    #T_a22810c2_0df5_11ea_b414_dcf50505b36erow4_col0 {\n",
       "            background-color:  #008066;\n",
       "            color:  #f1f1f1;\n",
       "        }    #T_a22810c2_0df5_11ea_b414_dcf50505b36erow4_col1 {\n",
       "            background-color:  #008066;\n",
       "            color:  #f1f1f1;\n",
       "        }    #T_a22810c2_0df5_11ea_b414_dcf50505b36erow4_col2 {\n",
       "            background-color:  #008066;\n",
       "            color:  #f1f1f1;\n",
       "        }    #T_a22810c2_0df5_11ea_b414_dcf50505b36erow4_col3 {\n",
       "            background-color:  #008066;\n",
       "            color:  #f1f1f1;\n",
       "        }</style><table id=\"T_a22810c2_0df5_11ea_b414_dcf50505b36e\" ><thead>    <tr>        <th class=\"blank\" ></th>        <th class=\"index_name level0\" >Pclass</th>        <th class=\"col_heading level0 col0\" >1</th>        <th class=\"col_heading level0 col1\" >2</th>        <th class=\"col_heading level0 col2\" >3</th>        <th class=\"col_heading level0 col3\" >All</th>    </tr>    <tr>        <th class=\"index_name level0\" >Sex</th>        <th class=\"index_name level1\" >Survived</th>        <th class=\"blank\" ></th>        <th class=\"blank\" ></th>        <th class=\"blank\" ></th>        <th class=\"blank\" ></th>    </tr></thead><tbody>\n",
       "                <tr>\n",
       "                        <th id=\"T_a22810c2_0df5_11ea_b414_dcf50505b36elevel0_row0\" class=\"row_heading level0 row0\" rowspan=2>female</th>\n",
       "                        <th id=\"T_a22810c2_0df5_11ea_b414_dcf50505b36elevel1_row0\" class=\"row_heading level1 row0\" >0</th>\n",
       "                        <td id=\"T_a22810c2_0df5_11ea_b414_dcf50505b36erow0_col0\" class=\"data row0 col0\" >3</td>\n",
       "                        <td id=\"T_a22810c2_0df5_11ea_b414_dcf50505b36erow0_col1\" class=\"data row0 col1\" >6</td>\n",
       "                        <td id=\"T_a22810c2_0df5_11ea_b414_dcf50505b36erow0_col2\" class=\"data row0 col2\" >72</td>\n",
       "                        <td id=\"T_a22810c2_0df5_11ea_b414_dcf50505b36erow0_col3\" class=\"data row0 col3\" >81</td>\n",
       "            </tr>\n",
       "            <tr>\n",
       "                                <th id=\"T_a22810c2_0df5_11ea_b414_dcf50505b36elevel1_row1\" class=\"row_heading level1 row1\" >1</th>\n",
       "                        <td id=\"T_a22810c2_0df5_11ea_b414_dcf50505b36erow1_col0\" class=\"data row1 col0\" >91</td>\n",
       "                        <td id=\"T_a22810c2_0df5_11ea_b414_dcf50505b36erow1_col1\" class=\"data row1 col1\" >70</td>\n",
       "                        <td id=\"T_a22810c2_0df5_11ea_b414_dcf50505b36erow1_col2\" class=\"data row1 col2\" >72</td>\n",
       "                        <td id=\"T_a22810c2_0df5_11ea_b414_dcf50505b36erow1_col3\" class=\"data row1 col3\" >233</td>\n",
       "            </tr>\n",
       "            <tr>\n",
       "                        <th id=\"T_a22810c2_0df5_11ea_b414_dcf50505b36elevel0_row2\" class=\"row_heading level0 row2\" rowspan=2>male</th>\n",
       "                        <th id=\"T_a22810c2_0df5_11ea_b414_dcf50505b36elevel1_row2\" class=\"row_heading level1 row2\" >0</th>\n",
       "                        <td id=\"T_a22810c2_0df5_11ea_b414_dcf50505b36erow2_col0\" class=\"data row2 col0\" >77</td>\n",
       "                        <td id=\"T_a22810c2_0df5_11ea_b414_dcf50505b36erow2_col1\" class=\"data row2 col1\" >91</td>\n",
       "                        <td id=\"T_a22810c2_0df5_11ea_b414_dcf50505b36erow2_col2\" class=\"data row2 col2\" >300</td>\n",
       "                        <td id=\"T_a22810c2_0df5_11ea_b414_dcf50505b36erow2_col3\" class=\"data row2 col3\" >468</td>\n",
       "            </tr>\n",
       "            <tr>\n",
       "                                <th id=\"T_a22810c2_0df5_11ea_b414_dcf50505b36elevel1_row3\" class=\"row_heading level1 row3\" >1</th>\n",
       "                        <td id=\"T_a22810c2_0df5_11ea_b414_dcf50505b36erow3_col0\" class=\"data row3 col0\" >45</td>\n",
       "                        <td id=\"T_a22810c2_0df5_11ea_b414_dcf50505b36erow3_col1\" class=\"data row3 col1\" >17</td>\n",
       "                        <td id=\"T_a22810c2_0df5_11ea_b414_dcf50505b36erow3_col2\" class=\"data row3 col2\" >47</td>\n",
       "                        <td id=\"T_a22810c2_0df5_11ea_b414_dcf50505b36erow3_col3\" class=\"data row3 col3\" >109</td>\n",
       "            </tr>\n",
       "            <tr>\n",
       "                        <th id=\"T_a22810c2_0df5_11ea_b414_dcf50505b36elevel0_row4\" class=\"row_heading level0 row4\" >All</th>\n",
       "                        <th id=\"T_a22810c2_0df5_11ea_b414_dcf50505b36elevel1_row4\" class=\"row_heading level1 row4\" ></th>\n",
       "                        <td id=\"T_a22810c2_0df5_11ea_b414_dcf50505b36erow4_col0\" class=\"data row4 col0\" >216</td>\n",
       "                        <td id=\"T_a22810c2_0df5_11ea_b414_dcf50505b36erow4_col1\" class=\"data row4 col1\" >184</td>\n",
       "                        <td id=\"T_a22810c2_0df5_11ea_b414_dcf50505b36erow4_col2\" class=\"data row4 col2\" >491</td>\n",
       "                        <td id=\"T_a22810c2_0df5_11ea_b414_dcf50505b36erow4_col3\" class=\"data row4 col3\" >891</td>\n",
       "            </tr>\n",
       "    </tbody></table>"
      ],
      "text/plain": [
       "<pandas.io.formats.style.Styler at 0x2850c395d30>"
      ]
     },
     "execution_count": 14,
     "metadata": {},
     "output_type": "execute_result"
    }
   ],
   "source": [
    "pd.crosstab([titanic.Sex,titanic.Survived],titanic.Pclass,margins=True).style.background_gradient(cmap='summer_r')"
   ]
  },
  {
   "cell_type": "markdown",
   "metadata": {},
   "source": [
    "1. Women and children were given preference at the time of rescue.\n",
    "2. Rate of survival among women is higher than men in every Pclass."
   ]
  },
  {
   "cell_type": "code",
   "execution_count": 15,
   "metadata": {},
   "outputs": [
    {
     "name": "stderr",
     "output_type": "stream",
     "text": [
      "C:\\Users\\harsh\\Anaconda3\\lib\\site-packages\\seaborn\\categorical.py:3666: UserWarning: The `factorplot` function has been renamed to `catplot`. The original name will be removed in a future release. Please update your code. Note that the default `kind` in `factorplot` (`'point'`) has changed `'strip'` in `catplot`.\n",
      "  warnings.warn(msg)\n"
     ]
    },
    {
     "data": {
      "image/png": "[encoded data removed]",
      "text/plain": [
       "<Figure size 426.125x360 with 1 Axes>"
      ]
     },
     "metadata": {
      "needs_background": "light"
     },
     "output_type": "display_data"
    }
   ],
   "source": [
    "sns.factorplot('Pclass', 'Survived', hue='Sex', data=titanic)\n",
    "plt.show()"
   ]
  },
  {
   "cell_type": "markdown",
   "metadata": {},
   "source": [
    "1. Mostly females from class 1 survived. (91 out of 94)\n",
    "2. Females had a higher rate of survival in every class as compared to males.\n",
    "3. Irrespective of the Pclass women were given a preference at the time of rescue."
   ]
  },
  {
   "cell_type": "code",
   "execution_count": 16,
   "metadata": {},
   "outputs": [
    {
     "data": {
      "text/plain": [
       "<seaborn.axisgrid.FacetGrid at 0x2850c18f438>"
      ]
     },
     "execution_count": 16,
     "metadata": {},
     "output_type": "execute_result"
    },
    {
     "data": {
      "text/plain": [
       "<Figure size 1800x504 with 0 Axes>"
      ]
     },
     "metadata": {},
     "output_type": "display_data"
    },
    {
     "data": {
      "image/png": "[encoded data removed]",
      "text/plain": [
       "<Figure size 414.75x360 with 1 Axes>"
      ]
     },
     "metadata": {
      "needs_background": "light"
     },
     "output_type": "display_data"
    }
   ],
   "source": [
    "fig= plt.figure(figsize=(25,7))\n",
    "sns.catplot(x='Sex',y='Age',hue='Survived',data=titanic,split=True,palette={0:'r',1:'g'},kind='violin')"
   ]
  },
  {
   "cell_type": "markdown",
   "metadata": {},
   "source": [
    " Women and children were given preference for survival at the time of rescue."
   ]
  },
  {
   "cell_type": "code",
   "execution_count": 17,
   "metadata": {},
   "outputs": [],
   "source": [
    "titanic_df=titanic.copy()"
   ]
  },
  {
   "cell_type": "code",
   "execution_count": 18,
   "metadata": {},
   "outputs": [
    {
     "data": {
      "text/plain": [
       "PassengerId      0\n",
       "Survived         0\n",
       "Pclass           0\n",
       "Name             0\n",
       "Sex              0\n",
       "Age            177\n",
       "SibSp            0\n",
       "Parch            0\n",
       "Ticket           0\n",
       "Fare             0\n",
       "Cabin          687\n",
       "Embarked         2\n",
       "dtype: int64"
      ]
     },
     "execution_count": 18,
     "metadata": {},
     "output_type": "execute_result"
    }
   ],
   "source": [
    "titanic_df.isnull().sum()"
   ]
  },
  {
   "cell_type": "code",
   "execution_count": 19,
   "metadata": {},
   "outputs": [
    {
     "data": {
      "text/plain": [
       "None           687\n",
       "B96 B98          4\n",
       "G6               4\n",
       "C23 C25 C27      4\n",
       "F2               3\n",
       "C22 C26          3\n",
       "F33              3\n",
       "E101             3\n",
       "D                3\n",
       "C124             2\n",
       "D36              2\n",
       "E121             2\n",
       "D17              2\n",
       "D26              2\n",
       "C2               2\n",
       "E25              2\n",
       "B28              2\n",
       "C52              2\n",
       "B22              2\n",
       "C78              2\n",
       "E8               2\n",
       "B20              2\n",
       "D35              2\n",
       "B51 B53 B55      2\n",
       "E33              2\n",
       "F4               2\n",
       "B77              2\n",
       "D20              2\n",
       "E24              2\n",
       "E67              2\n",
       "              ... \n",
       "C45              1\n",
       "D49              1\n",
       "E40              1\n",
       "C128             1\n",
       "C106             1\n",
       "B38              1\n",
       "B73              1\n",
       "C110             1\n",
       "B39              1\n",
       "B71              1\n",
       "A24              1\n",
       "C101             1\n",
       "E63              1\n",
       "C99              1\n",
       "B94              1\n",
       "A31              1\n",
       "C118             1\n",
       "A16              1\n",
       "A23              1\n",
       "A10              1\n",
       "A32              1\n",
       "C47              1\n",
       "E10              1\n",
       "B41              1\n",
       "D6               1\n",
       "B86              1\n",
       "A19              1\n",
       "A7               1\n",
       "D9               1\n",
       "D46              1\n",
       "Name: Cabin, Length: 148, dtype: int64"
      ]
     },
     "execution_count": 19,
     "metadata": {},
     "output_type": "execute_result"
    }
   ],
   "source": [
    "titanic_df['Cabin'].value_counts()\n",
    "titanic_df['Cabin'].fillna('None',inplace=True)\n",
    "titanic_df['Cabin'].value_counts()"
   ]
  },
  {
   "cell_type": "code",
   "execution_count": 20,
   "metadata": {},
   "outputs": [
    {
     "data": {
      "text/plain": [
       "None    177\n",
       "24.0     30\n",
       "22.0     27\n",
       "18.0     26\n",
       "30.0     25\n",
       "28.0     25\n",
       "19.0     25\n",
       "21.0     24\n",
       "25.0     23\n",
       "36.0     22\n",
       "29.0     20\n",
       "35.0     18\n",
       "27.0     18\n",
       "26.0     18\n",
       "32.0     18\n",
       "31.0     17\n",
       "16.0     17\n",
       "20.0     15\n",
       "23.0     15\n",
       "34.0     15\n",
       "33.0     15\n",
       "39.0     14\n",
       "17.0     13\n",
       "42.0     13\n",
       "40.0     13\n",
       "45.0     12\n",
       "38.0     11\n",
       "50.0     10\n",
       "4.0      10\n",
       "2.0      10\n",
       "       ... \n",
       "0.75      2\n",
       "28.5      2\n",
       "0.83      2\n",
       "40.5      2\n",
       "30.5      2\n",
       "55.0      2\n",
       "57.0      2\n",
       "59.0      2\n",
       "63.0      2\n",
       "64.0      2\n",
       "45.5      2\n",
       "70.0      2\n",
       "71.0      2\n",
       "32.5      2\n",
       "0.67      1\n",
       "55.5      1\n",
       "14.5      1\n",
       "24.5      1\n",
       "0.92      1\n",
       "36.5      1\n",
       "20.5      1\n",
       "23.5      1\n",
       "12.0      1\n",
       "34.5      1\n",
       "74.0      1\n",
       "70.5      1\n",
       "0.42      1\n",
       "66.0      1\n",
       "53.0      1\n",
       "80.0      1\n",
       "Name: Age, Length: 89, dtype: int64"
      ]
     },
     "execution_count": 20,
     "metadata": {},
     "output_type": "execute_result"
    }
   ],
   "source": [
    "titanic_df['Age'].value_counts()\n",
    "titanic_df['Age'].fillna('None',inplace=True)\n",
    "titanic_df['Age'].value_counts()"
   ]
  },
  {
   "cell_type": "code",
   "execution_count": 21,
   "metadata": {},
   "outputs": [
    {
     "data": {
      "text/plain": [
       "S       644\n",
       "C       168\n",
       "Q        77\n",
       "None      2\n",
       "Name: Embarked, dtype: int64"
      ]
     },
     "execution_count": 21,
     "metadata": {},
     "output_type": "execute_result"
    }
   ],
   "source": [
    "titanic_df['Embarked'].value_counts()\n",
    "titanic_df['Embarked'].fillna('None',inplace=True)\n",
    "titanic_df['Embarked'].value_counts()"
   ]
  },
  {
   "cell_type": "code",
   "execution_count": 22,
   "metadata": {},
   "outputs": [
    {
     "data": {
      "text/plain": [
       "PassengerId    0\n",
       "Survived       0\n",
       "Pclass         0\n",
       "Name           0\n",
       "Sex            0\n",
       "Age            0\n",
       "SibSp          0\n",
       "Parch          0\n",
       "Ticket         0\n",
       "Fare           0\n",
       "Cabin          0\n",
       "Embarked       0\n",
       "dtype: int64"
      ]
     },
     "execution_count": 22,
     "metadata": {},
     "output_type": "execute_result"
    }
   ],
   "source": [
    "titanic_df.isnull().sum()"
   ]
  },
  {
   "cell_type": "code",
   "execution_count": 23,
   "metadata": {},
   "outputs": [
    {
     "data": {
      "text/html": [
       "<div>\n",
       "<style scoped>\n",
       "    .dataframe tbody tr th:only-of-type {\n",
       "        vertical-align: middle;\n",
       "    }\n",
       "\n",
       "    .dataframe tbody tr th {\n",
       "        vertical-align: top;\n",
       "    }\n",
       "\n",
       "    .dataframe thead th {\n",
       "        text-align: right;\n",
       "    }\n",
       "</style>\n",
       "<table border=\"1\" class=\"dataframe\">\n",
       "  <thead>\n",
       "    <tr style=\"text-align: right;\">\n",
       "      <th></th>\n",
       "      <th>Sex_female</th>\n",
       "      <th>Sex_male</th>\n",
       "    </tr>\n",
       "  </thead>\n",
       "  <tbody>\n",
       "    <tr>\n",
       "      <th>0</th>\n",
       "      <td>0</td>\n",
       "      <td>1</td>\n",
       "    </tr>\n",
       "    <tr>\n",
       "      <th>1</th>\n",
       "      <td>1</td>\n",
       "      <td>0</td>\n",
       "    </tr>\n",
       "    <tr>\n",
       "      <th>2</th>\n",
       "      <td>1</td>\n",
       "      <td>0</td>\n",
       "    </tr>\n",
       "    <tr>\n",
       "      <th>3</th>\n",
       "      <td>1</td>\n",
       "      <td>0</td>\n",
       "    </tr>\n",
       "    <tr>\n",
       "      <th>4</th>\n",
       "      <td>0</td>\n",
       "      <td>1</td>\n",
       "    </tr>\n",
       "  </tbody>\n",
       "</table>\n",
       "</div>"
      ],
      "text/plain": [
       "   Sex_female  Sex_male\n",
       "0           0         1\n",
       "1           1         0\n",
       "2           1         0\n",
       "3           1         0\n",
       "4           0         1"
      ]
     },
     "execution_count": 23,
     "metadata": {},
     "output_type": "execute_result"
    }
   ],
   "source": [
    "sex=pd.get_dummies(titanic_df.Sex, prefix='Sex')\n",
    "sex.head()"
   ]
  },
  {
   "cell_type": "code",
   "execution_count": 24,
   "metadata": {},
   "outputs": [
    {
     "data": {
      "text/html": [
       "<div>\n",
       "<style scoped>\n",
       "    .dataframe tbody tr th:only-of-type {\n",
       "        vertical-align: middle;\n",
       "    }\n",
       "\n",
       "    .dataframe tbody tr th {\n",
       "        vertical-align: top;\n",
       "    }\n",
       "\n",
       "    .dataframe thead th {\n",
       "        text-align: right;\n",
       "    }\n",
       "</style>\n",
       "<table border=\"1\" class=\"dataframe\">\n",
       "  <thead>\n",
       "    <tr style=\"text-align: right;\">\n",
       "      <th></th>\n",
       "      <th>Embarked_C</th>\n",
       "      <th>Embarked_None</th>\n",
       "      <th>Embarked_Q</th>\n",
       "      <th>Embarked_S</th>\n",
       "    </tr>\n",
       "  </thead>\n",
       "  <tbody>\n",
       "    <tr>\n",
       "      <th>0</th>\n",
       "      <td>0</td>\n",
       "      <td>0</td>\n",
       "      <td>0</td>\n",
       "      <td>1</td>\n",
       "    </tr>\n",
       "    <tr>\n",
       "      <th>1</th>\n",
       "      <td>1</td>\n",
       "      <td>0</td>\n",
       "      <td>0</td>\n",
       "      <td>0</td>\n",
       "    </tr>\n",
       "    <tr>\n",
       "      <th>2</th>\n",
       "      <td>0</td>\n",
       "      <td>0</td>\n",
       "      <td>0</td>\n",
       "      <td>1</td>\n",
       "    </tr>\n",
       "    <tr>\n",
       "      <th>3</th>\n",
       "      <td>0</td>\n",
       "      <td>0</td>\n",
       "      <td>0</td>\n",
       "      <td>1</td>\n",
       "    </tr>\n",
       "    <tr>\n",
       "      <th>4</th>\n",
       "      <td>0</td>\n",
       "      <td>0</td>\n",
       "      <td>0</td>\n",
       "      <td>1</td>\n",
       "    </tr>\n",
       "  </tbody>\n",
       "</table>\n",
       "</div>"
      ],
      "text/plain": [
       "   Embarked_C  Embarked_None  Embarked_Q  Embarked_S\n",
       "0           0              0           0           1\n",
       "1           1              0           0           0\n",
       "2           0              0           0           1\n",
       "3           0              0           0           1\n",
       "4           0              0           0           1"
      ]
     },
     "execution_count": 24,
     "metadata": {},
     "output_type": "execute_result"
    }
   ],
   "source": [
    "embarked=pd.get_dummies(titanic_df.Embarked, prefix='Embarked')\n",
    "embarked.head()"
   ]
  },
  {
   "cell_type": "code",
   "execution_count": 25,
   "metadata": {},
   "outputs": [
    {
     "data": {
      "text/html": [
       "<div>\n",
       "<style scoped>\n",
       "    .dataframe tbody tr th:only-of-type {\n",
       "        vertical-align: middle;\n",
       "    }\n",
       "\n",
       "    .dataframe tbody tr th {\n",
       "        vertical-align: top;\n",
       "    }\n",
       "\n",
       "    .dataframe thead th {\n",
       "        text-align: right;\n",
       "    }\n",
       "</style>\n",
       "<table border=\"1\" class=\"dataframe\">\n",
       "  <thead>\n",
       "    <tr style=\"text-align: right;\">\n",
       "      <th></th>\n",
       "      <th>PassengerId</th>\n",
       "      <th>Survived</th>\n",
       "      <th>Pclass</th>\n",
       "      <th>Name</th>\n",
       "      <th>Sex</th>\n",
       "      <th>Age</th>\n",
       "      <th>SibSp</th>\n",
       "      <th>Parch</th>\n",
       "      <th>Ticket</th>\n",
       "      <th>Fare</th>\n",
       "      <th>Cabin</th>\n",
       "      <th>Embarked</th>\n",
       "      <th>Sex_female</th>\n",
       "      <th>Sex_male</th>\n",
       "    </tr>\n",
       "  </thead>\n",
       "  <tbody>\n",
       "    <tr>\n",
       "      <th>0</th>\n",
       "      <td>1</td>\n",
       "      <td>0</td>\n",
       "      <td>3</td>\n",
       "      <td>Braund, Mr. Owen Harris</td>\n",
       "      <td>male</td>\n",
       "      <td>22</td>\n",
       "      <td>1</td>\n",
       "      <td>0</td>\n",
       "      <td>A/5 21171</td>\n",
       "      <td>7.2500</td>\n",
       "      <td>None</td>\n",
       "      <td>S</td>\n",
       "      <td>0</td>\n",
       "      <td>1</td>\n",
       "    </tr>\n",
       "    <tr>\n",
       "      <th>1</th>\n",
       "      <td>2</td>\n",
       "      <td>1</td>\n",
       "      <td>1</td>\n",
       "      <td>Cumings, Mrs. John Bradley (Florence Briggs Th...</td>\n",
       "      <td>female</td>\n",
       "      <td>38</td>\n",
       "      <td>1</td>\n",
       "      <td>0</td>\n",
       "      <td>PC 17599</td>\n",
       "      <td>71.2833</td>\n",
       "      <td>C85</td>\n",
       "      <td>C</td>\n",
       "      <td>1</td>\n",
       "      <td>0</td>\n",
       "    </tr>\n",
       "    <tr>\n",
       "      <th>2</th>\n",
       "      <td>3</td>\n",
       "      <td>1</td>\n",
       "      <td>3</td>\n",
       "      <td>Heikkinen, Miss. Laina</td>\n",
       "      <td>female</td>\n",
       "      <td>26</td>\n",
       "      <td>0</td>\n",
       "      <td>0</td>\n",
       "      <td>STON/O2. 3101282</td>\n",
       "      <td>7.9250</td>\n",
       "      <td>None</td>\n",
       "      <td>S</td>\n",
       "      <td>1</td>\n",
       "      <td>0</td>\n",
       "    </tr>\n",
       "    <tr>\n",
       "      <th>3</th>\n",
       "      <td>4</td>\n",
       "      <td>1</td>\n",
       "      <td>1</td>\n",
       "      <td>Futrelle, Mrs. Jacques Heath (Lily May Peel)</td>\n",
       "      <td>female</td>\n",
       "      <td>35</td>\n",
       "      <td>1</td>\n",
       "      <td>0</td>\n",
       "      <td>113803</td>\n",
       "      <td>53.1000</td>\n",
       "      <td>C123</td>\n",
       "      <td>S</td>\n",
       "      <td>1</td>\n",
       "      <td>0</td>\n",
       "    </tr>\n",
       "    <tr>\n",
       "      <th>4</th>\n",
       "      <td>5</td>\n",
       "      <td>0</td>\n",
       "      <td>3</td>\n",
       "      <td>Allen, Mr. William Henry</td>\n",
       "      <td>male</td>\n",
       "      <td>35</td>\n",
       "      <td>0</td>\n",
       "      <td>0</td>\n",
       "      <td>373450</td>\n",
       "      <td>8.0500</td>\n",
       "      <td>None</td>\n",
       "      <td>S</td>\n",
       "      <td>0</td>\n",
       "      <td>1</td>\n",
       "    </tr>\n",
       "  </tbody>\n",
       "</table>\n",
       "</div>"
      ],
      "text/plain": [
       "   PassengerId  Survived  Pclass  \\\n",
       "0            1         0       3   \n",
       "1            2         1       1   \n",
       "2            3         1       3   \n",
       "3            4         1       1   \n",
       "4            5         0       3   \n",
       "\n",
       "                                                Name     Sex Age  SibSp  \\\n",
       "0                            Braund, Mr. Owen Harris    male  22      1   \n",
       "1  Cumings, Mrs. John Bradley (Florence Briggs Th...  female  38      1   \n",
       "2                             Heikkinen, Miss. Laina  female  26      0   \n",
       "3       Futrelle, Mrs. Jacques Heath (Lily May Peel)  female  35      1   \n",
       "4                           Allen, Mr. William Henry    male  35      0   \n",
       "\n",
       "   Parch            Ticket     Fare Cabin Embarked  Sex_female  Sex_male  \n",
       "0      0         A/5 21171   7.2500  None        S           0         1  \n",
       "1      0          PC 17599  71.2833   C85        C           1         0  \n",
       "2      0  STON/O2. 3101282   7.9250  None        S           1         0  \n",
       "3      0            113803  53.1000  C123        S           1         0  \n",
       "4      0            373450   8.0500  None        S           0         1  "
      ]
     },
     "execution_count": 25,
     "metadata": {},
     "output_type": "execute_result"
    }
   ],
   "source": [
    "titanic_df_dummy1 = pd.concat([titanic_df, sex], axis=1)\n",
    "titanic_df_dummy1.head()"
   ]
  },
  {
   "cell_type": "code",
   "execution_count": 26,
   "metadata": {},
   "outputs": [
    {
     "data": {
      "text/html": [
       "<div>\n",
       "<style scoped>\n",
       "    .dataframe tbody tr th:only-of-type {\n",
       "        vertical-align: middle;\n",
       "    }\n",
       "\n",
       "    .dataframe tbody tr th {\n",
       "        vertical-align: top;\n",
       "    }\n",
       "\n",
       "    .dataframe thead th {\n",
       "        text-align: right;\n",
       "    }\n",
       "</style>\n",
       "<table border=\"1\" class=\"dataframe\">\n",
       "  <thead>\n",
       "    <tr style=\"text-align: right;\">\n",
       "      <th></th>\n",
       "      <th>PassengerId</th>\n",
       "      <th>Survived</th>\n",
       "      <th>Pclass</th>\n",
       "      <th>Name</th>\n",
       "      <th>Sex</th>\n",
       "      <th>Age</th>\n",
       "      <th>SibSp</th>\n",
       "      <th>Parch</th>\n",
       "      <th>Ticket</th>\n",
       "      <th>Fare</th>\n",
       "      <th>Cabin</th>\n",
       "      <th>Embarked</th>\n",
       "      <th>Sex_female</th>\n",
       "      <th>Sex_male</th>\n",
       "      <th>Embarked_C</th>\n",
       "      <th>Embarked_None</th>\n",
       "      <th>Embarked_Q</th>\n",
       "      <th>Embarked_S</th>\n",
       "    </tr>\n",
       "  </thead>\n",
       "  <tbody>\n",
       "    <tr>\n",
       "      <th>0</th>\n",
       "      <td>1</td>\n",
       "      <td>0</td>\n",
       "      <td>3</td>\n",
       "      <td>Braund, Mr. Owen Harris</td>\n",
       "      <td>male</td>\n",
       "      <td>22</td>\n",
       "      <td>1</td>\n",
       "      <td>0</td>\n",
       "      <td>A/5 21171</td>\n",
       "      <td>7.2500</td>\n",
       "      <td>None</td>\n",
       "      <td>S</td>\n",
       "      <td>0</td>\n",
       "      <td>1</td>\n",
       "      <td>0</td>\n",
       "      <td>0</td>\n",
       "      <td>0</td>\n",
       "      <td>1</td>\n",
       "    </tr>\n",
       "    <tr>\n",
       "      <th>1</th>\n",
       "      <td>2</td>\n",
       "      <td>1</td>\n",
       "      <td>1</td>\n",
       "      <td>Cumings, Mrs. John Bradley (Florence Briggs Th...</td>\n",
       "      <td>female</td>\n",
       "      <td>38</td>\n",
       "      <td>1</td>\n",
       "      <td>0</td>\n",
       "      <td>PC 17599</td>\n",
       "      <td>71.2833</td>\n",
       "      <td>C85</td>\n",
       "      <td>C</td>\n",
       "      <td>1</td>\n",
       "      <td>0</td>\n",
       "      <td>1</td>\n",
       "      <td>0</td>\n",
       "      <td>0</td>\n",
       "      <td>0</td>\n",
       "    </tr>\n",
       "    <tr>\n",
       "      <th>2</th>\n",
       "      <td>3</td>\n",
       "      <td>1</td>\n",
       "      <td>3</td>\n",
       "      <td>Heikkinen, Miss. Laina</td>\n",
       "      <td>female</td>\n",
       "      <td>26</td>\n",
       "      <td>0</td>\n",
       "      <td>0</td>\n",
       "      <td>STON/O2. 3101282</td>\n",
       "      <td>7.9250</td>\n",
       "      <td>None</td>\n",
       "      <td>S</td>\n",
       "      <td>1</td>\n",
       "      <td>0</td>\n",
       "      <td>0</td>\n",
       "      <td>0</td>\n",
       "      <td>0</td>\n",
       "      <td>1</td>\n",
       "    </tr>\n",
       "    <tr>\n",
       "      <th>3</th>\n",
       "      <td>4</td>\n",
       "      <td>1</td>\n",
       "      <td>1</td>\n",
       "      <td>Futrelle, Mrs. Jacques Heath (Lily May Peel)</td>\n",
       "      <td>female</td>\n",
       "      <td>35</td>\n",
       "      <td>1</td>\n",
       "      <td>0</td>\n",
       "      <td>113803</td>\n",
       "      <td>53.1000</td>\n",
       "      <td>C123</td>\n",
       "      <td>S</td>\n",
       "      <td>1</td>\n",
       "      <td>0</td>\n",
       "      <td>0</td>\n",
       "      <td>0</td>\n",
       "      <td>0</td>\n",
       "      <td>1</td>\n",
       "    </tr>\n",
       "    <tr>\n",
       "      <th>4</th>\n",
       "      <td>5</td>\n",
       "      <td>0</td>\n",
       "      <td>3</td>\n",
       "      <td>Allen, Mr. William Henry</td>\n",
       "      <td>male</td>\n",
       "      <td>35</td>\n",
       "      <td>0</td>\n",
       "      <td>0</td>\n",
       "      <td>373450</td>\n",
       "      <td>8.0500</td>\n",
       "      <td>None</td>\n",
       "      <td>S</td>\n",
       "      <td>0</td>\n",
       "      <td>1</td>\n",
       "      <td>0</td>\n",
       "      <td>0</td>\n",
       "      <td>0</td>\n",
       "      <td>1</td>\n",
       "    </tr>\n",
       "  </tbody>\n",
       "</table>\n",
       "</div>"
      ],
      "text/plain": [
       "   PassengerId  Survived  Pclass  \\\n",
       "0            1         0       3   \n",
       "1            2         1       1   \n",
       "2            3         1       3   \n",
       "3            4         1       1   \n",
       "4            5         0       3   \n",
       "\n",
       "                                                Name     Sex Age  SibSp  \\\n",
       "0                            Braund, Mr. Owen Harris    male  22      1   \n",
       "1  Cumings, Mrs. John Bradley (Florence Briggs Th...  female  38      1   \n",
       "2                             Heikkinen, Miss. Laina  female  26      0   \n",
       "3       Futrelle, Mrs. Jacques Heath (Lily May Peel)  female  35      1   \n",
       "4                           Allen, Mr. William Henry    male  35      0   \n",
       "\n",
       "   Parch            Ticket     Fare Cabin Embarked  Sex_female  Sex_male  \\\n",
       "0      0         A/5 21171   7.2500  None        S           0         1   \n",
       "1      0          PC 17599  71.2833   C85        C           1         0   \n",
       "2      0  STON/O2. 3101282   7.9250  None        S           1         0   \n",
       "3      0            113803  53.1000  C123        S           1         0   \n",
       "4      0            373450   8.0500  None        S           0         1   \n",
       "\n",
       "   Embarked_C  Embarked_None  Embarked_Q  Embarked_S  \n",
       "0           0              0           0           1  \n",
       "1           1              0           0           0  \n",
       "2           0              0           0           1  \n",
       "3           0              0           0           1  \n",
       "4           0              0           0           1  "
      ]
     },
     "execution_count": 26,
     "metadata": {},
     "output_type": "execute_result"
    }
   ],
   "source": [
    "titanic_df_dummy = pd.concat([titanic_df_dummy1, embarked], axis=1)\n",
    "titanic_df_dummy.head()"
   ]
  },
  {
   "cell_type": "code",
   "execution_count": 27,
   "metadata": {},
   "outputs": [
    {
     "name": "stdout",
     "output_type": "stream",
     "text": [
      "PassengerId      False\n",
      "Survived         False\n",
      "Pclass           False\n",
      "Name              True\n",
      "Sex               True\n",
      "Age               True\n",
      "SibSp            False\n",
      "Parch            False\n",
      "Ticket            True\n",
      "Fare             False\n",
      "Cabin             True\n",
      "Embarked          True\n",
      "Sex_female       False\n",
      "Sex_male         False\n",
      "Embarked_C       False\n",
      "Embarked_None    False\n",
      "Embarked_Q       False\n",
      "Embarked_S       False\n",
      "dtype: bool\n",
      "\n",
      "   PassengerId  Survived  Pclass  SibSp  Parch     Fare  Sex_female  Sex_male  \\\n",
      "0            1         0       3      1      0   7.2500           0         1   \n",
      "1            2         1       1      1      0  71.2833           1         0   \n",
      "2            3         1       3      0      0   7.9250           1         0   \n",
      "3            4         1       1      1      0  53.1000           1         0   \n",
      "4            5         0       3      0      0   8.0500           0         1   \n",
      "\n",
      "   Embarked_C  Embarked_None  Embarked_Q  Embarked_S  \n",
      "0           0              0           0           1  \n",
      "1           1              0           0           0  \n",
      "2           0              0           0           1  \n",
      "3           0              0           0           1  \n",
      "4           0              0           0           1  \n"
     ]
    }
   ],
   "source": [
    "obj1=titanic_df_dummy.dtypes==object\n",
    "print(obj1)\n",
    "print()\n",
    "titanic_df_dummy=titanic_df_dummy.drop(titanic_df_dummy.columns[obj1],axis=1)\n",
    "print(titanic_df_dummy.head())"
   ]
  },
  {
   "cell_type": "code",
   "execution_count": 28,
   "metadata": {},
   "outputs": [],
   "source": [
    "dep='Survived'\n",
    "X=titanic_df_dummy.drop('Survived',axis=1)\n",
    "Y=titanic_df_dummy['Survived']\n"
   ]
  },
  {
   "cell_type": "code",
   "execution_count": 29,
   "metadata": {},
   "outputs": [],
   "source": [
    "from sklearn.model_selection import train_test_split\n",
    "\n",
    "\n",
    "X_train, X_test, y_train, y_test = train_test_split(X,Y, train_size=0.7 , test_size=0.3, random_state=100)"
   ]
  },
  {
   "cell_type": "code",
   "execution_count": 30,
   "metadata": {},
   "outputs": [],
   "source": [
    "from sklearn.linear_model import LogisticRegression"
   ]
  },
  {
   "cell_type": "code",
   "execution_count": 31,
   "metadata": {},
   "outputs": [],
   "source": [
    "lr = LogisticRegression(solver = 'liblinear')"
   ]
  },
  {
   "cell_type": "code",
   "execution_count": 32,
   "metadata": {},
   "outputs": [
    {
     "data": {
      "text/plain": [
       "LogisticRegression(C=1.0, class_weight=None, dual=False, fit_intercept=True,\n",
       "          intercept_scaling=1, max_iter=100, multi_class='warn',\n",
       "          n_jobs=None, penalty='l2', random_state=None, solver='liblinear',\n",
       "          tol=0.0001, verbose=0, warm_start=False)"
      ]
     },
     "execution_count": 32,
     "metadata": {},
     "output_type": "execute_result"
    }
   ],
   "source": [
    "lr.fit(X_train,y_train)"
   ]
  },
  {
   "cell_type": "code",
   "execution_count": 33,
   "metadata": {},
   "outputs": [
    {
     "data": {
      "text/plain": [
       "array([0.59919609, 0.62460686, 0.10184464, 0.79241624, 0.19377082,\n",
       "       0.62599487, 0.07310223, 0.34305465, 0.93079333, 0.46196684,\n",
       "       0.93834745, 0.10075666, 0.16761414, 0.59651587, 0.45675261,\n",
       "       0.14680835, 0.89289659, 0.34530011, 0.13860098, 0.10104272,\n",
       "       0.10130929, 0.95373147, 0.10111963, 0.643744  , 0.10149004,\n",
       "       0.10127068, 0.68949109, 0.34917332, 0.10072668, 0.09327685,\n",
       "       0.01838247, 0.7676452 , 0.34532925, 0.19306813, 0.88764574,\n",
       "       0.08411   , 0.73201469, 0.91569761, 0.76391759, 0.10072697,\n",
       "       0.5979118 , 0.94888314, 0.17086078, 0.06093006, 0.01837341,\n",
       "       0.73372247, 0.10085585, 0.94289879, 0.1709006 , 0.92961355,\n",
       "       0.10112778, 0.19366583, 0.0389871 , 0.10160227, 0.06945123,\n",
       "       0.10083118, 0.10121633, 0.10745758, 0.12411006, 0.3474926 ,\n",
       "       0.19114586, 0.14989104, 0.10135444, 0.09427597, 0.1926218 ,\n",
       "       0.64339153, 0.10131722, 0.73986629, 0.76365933, 0.10122296,\n",
       "       0.35509402, 0.10118702, 0.10129658, 0.6250951 , 0.10143951,\n",
       "       0.17024706, 0.32096684, 0.14677765, 0.08677018, 0.14687571,\n",
       "       0.1910609 , 0.19256793, 0.92223897, 0.88538686, 0.88693744,\n",
       "       0.10126114, 0.10136047, 0.79379046, 0.19254006, 0.10095686,\n",
       "       0.12169982, 0.55928713, 0.1007667 , 0.10096824, 0.9350382 ,\n",
       "       0.65659722, 0.62469376, 0.92534805, 0.10132724, 0.64518744,\n",
       "       0.09392401, 0.14760493, 0.10173977, 0.77497919, 0.1013586 ,\n",
       "       0.89498778, 0.10138274, 0.62491029, 0.64510429, 0.43276469,\n",
       "       0.10086201, 0.34566695, 0.45183245, 0.12187104, 0.66407896,\n",
       "       0.1015459 , 0.03903502, 0.06636604, 0.09405831, 0.45779037,\n",
       "       0.10100512, 0.10088639, 0.92409174, 0.45044484, 0.09360727,\n",
       "       0.88602643, 0.10146277, 0.10065603, 0.923929  , 0.10077715,\n",
       "       0.43464725, 0.3492785 , 0.23526221, 0.61270296, 0.09799727,\n",
       "       0.43509413, 0.094201  , 0.43204203, 0.76620068, 0.12552418,\n",
       "       0.62477613, 0.6465137 , 0.19225925, 0.19378015, 0.0943315 ,\n",
       "       0.15249559, 0.62456204, 0.72380292, 0.23779436, 0.6574084 ,\n",
       "       0.7008236 , 0.1061971 , 0.37239287, 0.76846463, 0.14445791,\n",
       "       0.62548887, 0.10465754, 0.64361322, 0.04398014, 0.10100137,\n",
       "       0.55479493, 0.64395932, 0.19365512, 0.10107349, 0.88063484,\n",
       "       0.1472691 , 0.62548608, 0.34537517, 0.19268684, 0.76738214,\n",
       "       0.19264596, 0.7916251 , 0.36975044, 0.73081208, 0.72147826,\n",
       "       0.76880463, 0.08706877, 0.06162502, 0.65707651, 0.10105319,\n",
       "       0.03071137, 0.09400742, 0.93573376, 0.26919681, 0.10609702,\n",
       "       0.10088098, 0.47112404, 0.06931469, 0.60300436, 0.79437793,\n",
       "       0.79303266, 0.10147618, 0.79389158, 0.09395554, 0.19270171,\n",
       "       0.03531717, 0.65405959, 0.07983898, 0.61214713, 0.4260239 ,\n",
       "       0.95565283, 0.10405392, 0.43309052, 0.34555768, 0.14485799,\n",
       "       0.08420801, 0.10104706, 0.36912337, 0.3236438 , 0.93972947,\n",
       "       0.29866871, 0.35281234, 0.21334664, 0.59208068, 0.06819031,\n",
       "       0.10105945, 0.83504047, 0.90448523, 0.07160181, 0.19282627,\n",
       "       0.14634654, 0.62664208, 0.89491365, 0.10145952, 0.91070595,\n",
       "       0.1262433 , 0.12177741, 0.55361427, 0.34916174, 0.08671341,\n",
       "       0.94002046, 0.1013626 , 0.17031735, 0.90573271, 0.18464987,\n",
       "       0.08627785, 0.21420816, 0.64629697, 0.10131472, 0.56208708,\n",
       "       0.10191004, 0.45227621, 0.10072936, 0.16713463, 0.10123915,\n",
       "       0.14696422, 0.37021792, 0.19229002, 0.10236301, 0.10077428,\n",
       "       0.36108846, 0.10133921, 0.34484862, 0.34608863, 0.64438372,\n",
       "       0.14367361, 0.10127122, 0.14628536, 0.08793003, 0.10160064,\n",
       "       0.94125655, 0.30831692, 0.07192958, 0.69828736, 0.94902763,\n",
       "       0.10077103, 0.60183034, 0.18440537])"
      ]
     },
     "execution_count": 33,
     "metadata": {},
     "output_type": "execute_result"
    }
   ],
   "source": [
    "lr.predict_proba(X_test)[:,1]"
   ]
  },
  {
   "cell_type": "code",
   "execution_count": 34,
   "metadata": {},
   "outputs": [
    {
     "data": {
      "text/plain": [
       "(array([ True,  True, False,  True, False,  True, False, False,  True,\n",
       "        False,  True, False, False,  True, False, False,  True, False,\n",
       "        False, False, False,  True, False,  True, False, False,  True,\n",
       "        False, False, False, False,  True, False, False,  True, False,\n",
       "         True,  True,  True, False,  True,  True, False, False, False,\n",
       "         True, False,  True, False,  True, False, False, False, False,\n",
       "        False, False, False, False, False, False, False, False, False,\n",
       "        False, False,  True, False,  True,  True, False, False, False,\n",
       "        False,  True, False, False, False, False, False, False, False,\n",
       "        False,  True,  True,  True, False, False,  True, False, False,\n",
       "        False,  True, False, False,  True,  True,  True,  True, False,\n",
       "         True, False, False, False,  True, False,  True, False,  True,\n",
       "         True, False, False, False, False, False,  True, False, False,\n",
       "        False, False, False, False, False,  True, False, False,  True,\n",
       "        False, False,  True, False, False, False, False,  True, False,\n",
       "        False, False, False,  True, False,  True,  True, False, False,\n",
       "        False, False,  True,  True, False,  True,  True, False, False,\n",
       "         True, False,  True, False,  True, False, False,  True,  True,\n",
       "        False, False,  True, False,  True, False, False,  True, False,\n",
       "         True, False,  True,  True,  True, False, False,  True, False,\n",
       "        False, False,  True, False, False, False, False, False,  True,\n",
       "         True,  True, False,  True, False, False, False,  True, False,\n",
       "         True, False,  True, False, False, False, False, False, False,\n",
       "        False, False,  True, False, False, False,  True, False, False,\n",
       "         True,  True, False, False, False,  True,  True, False,  True,\n",
       "        False, False,  True, False, False,  True, False, False,  True,\n",
       "        False, False, False,  True, False,  True, False, False, False,\n",
       "        False, False, False, False, False, False, False, False, False,\n",
       "        False, False,  True, False, False, False, False, False,  True,\n",
       "        False, False,  True,  True, False,  True, False]), 1, 0)"
      ]
     },
     "execution_count": 34,
     "metadata": {},
     "output_type": "execute_result"
    }
   ],
   "source": [
    "lr.predict_proba(X_test)[:,1]>.5,1,0"
   ]
  },
  {
   "cell_type": "code",
   "execution_count": 35,
   "metadata": {},
   "outputs": [],
   "source": [
    "y_pred = np.where(lr.predict_proba(X_test)[:,1]>.4,1,0)"
   ]
  },
  {
   "cell_type": "code",
   "execution_count": 36,
   "metadata": {},
   "outputs": [],
   "source": [
    "from sklearn.metrics import accuracy_score,f1_score,precision_score,recall_score, roc_curve, auc, roc_auc_score,confusion_matrix,classification_report\n",
    "accuracy = accuracy_score(y_test, y_pred)\n",
    "precision = precision_score(y_test, y_pred)\n",
    "recall = recall_score(y_test, y_pred)\n",
    "roc_auc = roc_auc_score(y_test, y_pred)\n",
    "cm = confusion_matrix(y_test, y_pred)\n",
    "TP = cm[0][0]\n",
    "FP = cm[0][1]\n",
    "FN = cm[1][0]\n",
    "TN = cm[1][1]"
   ]
  },
  {
   "cell_type": "code",
   "execution_count": 37,
   "metadata": {},
   "outputs": [
    {
     "name": "stdout",
     "output_type": "stream",
     "text": [
      "Accuracy is  : 0.7649253731343284\n",
      "Precision is  : 0.7254901960784313\n",
      "Recall is  : 0.6788990825688074\n",
      "Roc Auc is  : 0.7513992268189948\n",
      "Confusion Matrix is  :\n",
      " [[131  28]\n",
      " [ 35  74]]\n",
      "131 28 35 74\n"
     ]
    }
   ],
   "source": [
    "print('Accuracy is  :' ,accuracy)\n",
    "print('Precision is  :',precision)\n",
    "print('Recall is  :',recall)\n",
    "print('Roc Auc is  :',roc_auc)\n",
    "print('Confusion Matrix is  :\\n',cm)\n",
    "print(TP,FP,FN,TN)"
   ]
  },
  {
   "cell_type": "code",
   "execution_count": 38,
   "metadata": {},
   "outputs": [
    {
     "data": {
      "image/png": "[encoded data removed]",
      "text/plain": [
       "<Figure size 432x288 with 1 Axes>"
      ]
     },
     "metadata": {
      "needs_background": "light"
     },
     "output_type": "display_data"
    },
    {
     "name": "stdout",
     "output_type": "stream",
     "text": [
      "Area under the curve:  0.751\n"
     ]
    }
   ],
   "source": [
    "false_positive_rate, true_positive_rate, thresholds = roc_curve(y_test, y_pred)\n",
    "plt.title('Receiver Operating Characteristic')\n",
    "plt.plot(false_positive_rate, true_positive_rate)\n",
    "plt.plot([0,1],[0,1],'r--')\n",
    "plt.xlim([-0.1,1.2])\n",
    "plt.ylim([-0.1,1.2])\n",
    "plt.ylabel('True Positive Rate(Sensitivity)')\n",
    "plt.xlabel('False Positive Rate(1-Specificity)')\n",
    "plt.show()\n",
    "\n",
    "print(\"Area under the curve: \",round(auc(false_positive_rate, true_positive_rate),3))"
   ]
  }
 ],
 "metadata": {
  "kernelspec": {
   "display_name": "Python 3",
   "language": "python",
   "name": "python3"
  },
  "language_info": {
   "codemirror_mode": {
    "name": "ipython",
    "version": 3
   },
   "file_extension": ".py",
   "mimetype": "text/x-python",
   "name": "python",
   "nbconvert_exporter": "python",
   "pygments_lexer": "ipython3",
   "version": "3.7.3"
  }
 },
 "nbformat": 4,
 "nbformat_minor": 2
}
